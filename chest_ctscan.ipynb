{
  "nbformat": 4,
  "nbformat_minor": 0,
  "metadata": {
    "colab": {
      "provenance": []
    },
    "kernelspec": {
      "name": "python3",
      "display_name": "Python 3"
    },
    "language_info": {
      "name": "python"
    }
  },
  "cells": [
    {
      "cell_type": "code",
      "source": [
        "!mkdir -p ~/.kaggle\n",
        "!mv kaggle.json ~/.kaggle/\n",
        "!chmod 600 ~/.kaggle/kaggle.json"
      ],
      "metadata": {
        "id": "GnKNrg1FlN_d"
      },
      "execution_count": null,
      "outputs": []
    },
    {
      "cell_type": "code",
      "source": [
        "!kaggle datasets download -d mohamedhanyyy/chest-ctscan-images"
      ],
      "metadata": {
        "colab": {
          "base_uri": "https://localhost:8080/"
        },
        "id": "8MRuuLtgk6w5",
        "outputId": "26119cb1-770d-4bdb-ceb3-7f2a5fc3cab4"
      },
      "execution_count": null,
      "outputs": [
        {
          "output_type": "stream",
          "name": "stdout",
          "text": [
            "Downloading chest-ctscan-images.zip to /content\n",
            " 89% 105M/119M [00:01<00:00, 147MB/s] \n",
            "100% 119M/119M [00:01<00:00, 113MB/s]\n"
          ]
        }
      ]
    },
    {
      "cell_type": "code",
      "source": [
        "import zipfile\n",
        "zip_file_path = '/content/chest-ctscan-images.zip'\n",
        "with zipfile.ZipFile(zip_file_path, 'r') as zip_ref:\n",
        "    zip_ref.extractall('/content/')"
      ],
      "metadata": {
        "id": "QS9eWGRLlKZ7"
      },
      "execution_count": null,
      "outputs": []
    },
    {
      "cell_type": "code",
      "source": [
        "from datetime import datetime\n",
        "import time\n",
        "\n",
        "import matplotlib.pyplot as plt\n",
        "\n",
        "import torch\n",
        "import torch.nn as nn\n",
        "import torch.optim as optim\n",
        "import torchvision\n",
        "import torchvision.transforms as transforms\n",
        "\n",
        "from tensorflow.keras.preprocessing.image import ImageDataGenerator\n",
        "from tensorflow.keras.applications import DenseNet121, VGG16\n",
        "from tensorflow.keras.models import Model, Sequential\n",
        "from tensorflow.keras.layers import Input, Conv2D, MaxPooling2D, Dropout, Conv2DTranspose, concatenate, Dense, GlobalAveragePooling2D, BatchNormalization, Flatten\n",
        "\n",
        "# You may need to organize the rest of your code as well for better readability and maintainability.\n"
      ],
      "metadata": {
        "id": "P8K2TCckray6"
      },
      "execution_count": null,
      "outputs": []
    },
    {
      "cell_type": "code",
      "source": [
        "# Define the directories containing your image data\n",
        "train_dir = '/content/Data/train'\n",
        "validation_dir = '/content/Data/valid'\n",
        "test_dir = '/content/Data/test'\n",
        "\n",
        "# Define image dimensions and batch size\n",
        "img_width, img_height = 224, 224\n",
        "batch_size = 32\n",
        "epochs = 10\n",
        "\n",
        "\n",
        "# Data Augmentation for Train Data\n",
        "train_datagen = ImageDataGenerator(\n",
        "    rescale=1.0 / 255,\n",
        "    rotation_range=90,\n",
        "    width_shift_range=0.3,\n",
        "    height_shift_range=0.3,\n",
        "    shear_range=0.3,\n",
        "    zoom_range=0.3,\n",
        "    horizontal_flip=True,\n",
        "    vertical_flip=True,\n",
        "    brightness_range=[0.2, 1.0],\n",
        "    channel_shift_range=100,  # Random channel shifts\n",
        "    fill_mode='nearest',\n",
        "    preprocessing_function=lambda x: x + np.random.normal(loc=0.0, scale=0.2, size=x.shape)  # Add Gaussian noise\n",
        ")\n",
        "\n",
        "\n",
        "# Rescaling for Validation and Test Data\n",
        "validation_datagen = ImageDataGenerator(rescale=1.0 / 255)\n",
        "test_datagen = ImageDataGenerator(rescale=1.0 / 255)\n",
        "\n",
        "# Flow images from directories and resize\n",
        "train_generator = train_datagen.flow_from_directory(\n",
        "    train_dir,\n",
        "    target_size=(img_height, img_width),\n",
        "    batch_size=batch_size,\n",
        "    class_mode='categorical'\n",
        ")\n",
        "\n",
        "validation_generator = validation_datagen.flow_from_directory(\n",
        "    validation_dir,\n",
        "    target_size=(img_height, img_width),\n",
        "    batch_size=batch_size,\n",
        "    class_mode='categorical'\n",
        ")\n",
        "\n",
        "test_generator = test_datagen.flow_from_directory(\n",
        "    test_dir,\n",
        "    target_size=(img_height, img_width),\n",
        "    batch_size=batch_size,\n",
        "    class_mode='categorical'\n",
        ")"
      ],
      "metadata": {
        "colab": {
          "base_uri": "https://localhost:8080/"
        },
        "id": "FprdQugwqYnO",
        "outputId": "97595d46-5488-4776-e0e2-1d9e247d6a85"
      },
      "execution_count": null,
      "outputs": [
        {
          "output_type": "stream",
          "name": "stdout",
          "text": [
            "Found 613 images belonging to 4 classes.\n",
            "Found 72 images belonging to 4 classes.\n",
            "Found 315 images belonging to 4 classes.\n"
          ]
        }
      ]
    },
    {
      "cell_type": "code",
      "source": [
        "# Check the class indices\n",
        "print(\"Class Indices:\")\n",
        "print(train_generator.class_indices)\n",
        "\n",
        "# Check the number of classes\n",
        "num_classes = len(train_generator.class_indices)\n",
        "print(\"Number of Classes:\", num_classes)\n",
        "\n",
        "# Define the VGG16 model\n",
        "vgg_model = VGG16(weights='imagenet', include_top=False, input_shape=(img_height, img_width, 3))\n",
        "\n",
        "# Freeze the pre-trained layers\n",
        "for layer in vgg_model.layers:\n",
        "    layer.trainable = False\n",
        "\n",
        "# Define the new model\n",
        "model = Sequential()\n",
        "model.add(vgg_model)\n",
        "model.add(Flatten())\n",
        "model.add(Dense(128, activation='relu'))\n",
        "model.add(Dense(num_classes, activation='softmax'))\n",
        "\n",
        "# Compile the model\n",
        "model.compile(optimizer=Adam(),\n",
        "              loss='categorical_crossentropy',\n",
        "              metrics=['accuracy'])"
      ],
      "metadata": {
        "id": "THpQwPfG83rs",
        "colab": {
          "base_uri": "https://localhost:8080/"
        },
        "outputId": "93f0e216-3630-4c45-dcb9-db68c4317132"
      },
      "execution_count": null,
      "outputs": [
        {
          "output_type": "stream",
          "name": "stdout",
          "text": [
            "Class Indices:\n",
            "{'adenocarcinoma_left.lower.lobe_T2_N0_M0_Ib': 0, 'large.cell.carcinoma_left.hilum_T2_N2_M0_IIIa': 1, 'normal': 2, 'squamous.cell.carcinoma_left.hilum_T1_N2_M0_IIIa': 3}\n",
            "Number of Classes: 4\n"
          ]
        }
      ]
    },
    {
      "cell_type": "code",
      "source": [
        "# Record the start time\n",
        "start_time = datetime.now()\n",
        "\n",
        "# Model Training\n",
        "history = model.fit(\n",
        "    train_generator,\n",
        "    steps_per_epoch=train_generator.samples // batch_size,\n",
        "    epochs=epochs,\n",
        "    validation_data=validation_generator,\n",
        "    validation_steps=validation_generator.samples // batch_size\n",
        ")\n",
        "\n",
        "# Record the end time\n",
        "end_time = datetime.now()\n",
        "\n",
        "# Calculate the training time\n",
        "training_time = end_time - start_time\n",
        "print(f\"Training Time: {training_time} seconds\")\n",
        "\n",
        "# Plot training history\n",
        "plt.figure(figsize=(12, 6))\n",
        "\n",
        "# Plot training & validation accuracy values\n",
        "plt.subplot(1, 2, 1)\n",
        "plt.plot(history.history['accuracy'])\n",
        "plt.plot(history.history['val_accuracy'])\n",
        "plt.title('Model Accuracy')\n",
        "plt.xlabel('Epoch')\n",
        "plt.ylabel('Accuracy')\n",
        "plt.legend(['Train', 'Validation'], loc='upper left')\n",
        "\n",
        "# Plot training & validation loss values\n",
        "plt.subplot(1, 2, 2)\n",
        "plt.plot(history.history['loss'])\n",
        "plt.plot(history.history['val_loss'])\n",
        "plt.title('Model Loss')\n",
        "plt.xlabel('Epoch')\n",
        "plt.ylabel('Loss')\n",
        "plt.legend(['Train', 'Validation'], loc='upper left')\n",
        "\n",
        "plt.tight_layout()\n",
        "plt.show()\n"
      ],
      "metadata": {
        "id": "ojtmhhuPI0r4"
      },
      "execution_count": null,
      "outputs": []
    },
    {
      "cell_type": "code",
      "source": [
        "# Evaluate the model\n",
        "evaluation = model.evaluate(validation_generator)\n",
        "print(\"Validation Loss:\", evaluation[0])\n",
        "print(\"Validation Accuracy:\", evaluation[1])"
      ],
      "metadata": {
        "id": "X0w2dCMMKGJh"
      },
      "execution_count": null,
      "outputs": []
    },
    {
      "cell_type": "markdown",
      "source": [
        "**DenseNet121**"
      ],
      "metadata": {
        "id": "eBLhFEbXJhFD"
      }
    },
    {
      "cell_type": "code",
      "source": [
        "# Define the DenseNet121 model\n",
        "base_model = DenseNet121(weights='imagenet', include_top=False, input_shape=(img_height, img_width, 3))\n",
        "\n",
        "# Freeze the convolutional base\n",
        "base_model.trainable = False\n",
        "\n",
        "# Create a new model on top of the base model\n",
        "model = Sequential([\n",
        "    base_model,\n",
        "    Flatten(),\n",
        "    Dense(128, activation='relu'),\n",
        "    Dropout(0.5),\n",
        "    Dense(num_classes, activation='softmax')\n",
        "])\n",
        "\n",
        "# Compile the model\n",
        "model.compile(optimizer=Adam(),\n",
        "              loss='categorical_crossentropy',\n",
        "              metrics=['accuracy'])\n",
        "\n"
      ],
      "metadata": {
        "colab": {
          "base_uri": "https://localhost:8080/"
        },
        "id": "Hr8eG7QhJiML",
        "outputId": "c35197e3-9ea7-41ed-bdb5-8af602ae12e7"
      },
      "execution_count": null,
      "outputs": [
        {
          "output_type": "stream",
          "name": "stdout",
          "text": [
            "Downloading data from https://storage.googleapis.com/tensorflow/keras-applications/densenet/densenet121_weights_tf_dim_ordering_tf_kernels_notop.h5\n",
            "29084464/29084464 [==============================] - 0s 0us/step\n"
          ]
        }
      ]
    },
    {
      "cell_type": "code",
      "source": [
        "\n",
        "# Record the start time\n",
        "start_time = datetime.now()\n",
        "\n",
        "# Model Training\n",
        "history = model.fit(\n",
        "    train_generator,\n",
        "    steps_per_epoch=train_generator.samples // batch_size,\n",
        "    epochs=epochs,\n",
        "    validation_data=validation_generator,\n",
        "    validation_steps=validation_generator.samples // batch_size\n",
        ")\n",
        "\n",
        "# Record the end time\n",
        "end_time = datetime.now()\n",
        "\n",
        "# Calculate the training time\n",
        "training_time = end_time - start_time\n",
        "print(f\"Training Time: {training_time} seconds\")\n",
        "\n",
        "# Plot training history\n",
        "plt.figure(figsize=(12, 6))\n",
        "\n",
        "# Plot training & validation accuracy values\n",
        "plt.subplot(1, 2, 1)\n",
        "plt.plot(history.history['accuracy'])\n",
        "plt.plot(history.history['val_accuracy'])\n",
        "plt.title('Model Accuracy')\n",
        "plt.xlabel('Epoch')\n",
        "plt.ylabel('Accuracy')\n",
        "plt.legend(['Train', 'Validation'], loc='upper left')\n",
        "\n",
        "# Plot training & validation loss values\n",
        "plt.subplot(1, 2, 2)\n",
        "plt.plot(history.history['loss'])\n",
        "plt.plot(history.history['val_loss'])\n",
        "plt.title('Model Loss')\n",
        "plt.xlabel('Epoch')\n",
        "plt.ylabel('Loss')\n",
        "plt.legend(['Train', 'Validation'], loc='upper left')\n",
        "\n",
        "plt.tight_layout()\n",
        "plt.show()"
      ],
      "metadata": {
        "id": "pEd97SN8Jsxm"
      },
      "execution_count": null,
      "outputs": []
    },
    {
      "cell_type": "code",
      "source": [
        "# Evaluate the model\n",
        "evaluation = model.evaluate(validation_generator)\n",
        "print(\"Validation Loss:\", evaluation[0])\n",
        "print(\"Validation Accuracy:\", evaluation[1])"
      ],
      "metadata": {
        "id": "nlD9QjS4JuKY"
      },
      "execution_count": null,
      "outputs": []
    },
    {
      "cell_type": "markdown",
      "source": [
        "**2D CNN**\n"
      ],
      "metadata": {
        "id": "EItI3UoeKIUW"
      }
    },
    {
      "cell_type": "code",
      "source": [
        "# Check the number of classes\n",
        "num_classes = len(train_generator.class_indices)\n",
        "print(\"Number of Classes:\", num_classes)\n",
        "\n",
        "# Define the input shape\n",
        "input_shape = (img_height, img_width, 3)  # Assuming RGB images\n",
        "\n",
        "# Define your 2D CNN model\n",
        "model = Sequential()\n",
        "model.add(Conv2D(32, (3, 3), activation='relu', input_shape=input_shape))\n",
        "model.add(MaxPooling2D((2, 2)))\n",
        "model.add(Conv2D(64, (3, 3), activation='relu'))\n",
        "model.add(MaxPooling2D((2, 2)))\n",
        "model.add(Conv2D(128, (3, 3), activation='relu'))\n",
        "model.add(MaxPooling2D((2, 2)))\n",
        "model.add(Flatten())\n",
        "model.add(Dense(128, activation='relu'))\n",
        "model.add(Dense(num_classes, activation='softmax'))  # Output layer with number of classes\n",
        "\n",
        "# Compile the model\n",
        "model.compile(optimizer='adam',\n",
        "              loss='categorical_crossentropy',\n",
        "              metrics=['accuracy'])\n"
      ],
      "metadata": {
        "colab": {
          "base_uri": "https://localhost:8080/"
        },
        "id": "vhmxFUXWKMfM",
        "outputId": "57b67ad7-350c-4ce3-ce42-2b78198ac009"
      },
      "execution_count": null,
      "outputs": [
        {
          "output_type": "stream",
          "name": "stdout",
          "text": [
            "Number of Classes: 4\n"
          ]
        }
      ]
    },
    {
      "cell_type": "code",
      "source": [
        "# Record the start time\n",
        "start_time = datetime.now()\n",
        "\n",
        "# Model Training\n",
        "history = model.fit(\n",
        "    train_generator,\n",
        "    steps_per_epoch=train_generator.samples // batch_size,\n",
        "    epochs=10,\n",
        "    validation_data=validation_generator,\n",
        "    validation_steps=validation_generator.samples // batch_size\n",
        ")\n",
        "\n",
        "# Record the end time\n",
        "end_time = datetime.now()\n",
        "\n",
        "# Calculate the training time\n",
        "training_time = end_time - start_time\n",
        "print(f\"Training Time: {training_time} seconds\")\n",
        "\n",
        "# Plot training history\n",
        "plt.figure(figsize=(12, 6))\n",
        "\n",
        "# Plot training & validation accuracy values\n",
        "plt.subplot(1, 2, 1)\n",
        "plt.plot(history.history['accuracy'])\n",
        "plt.plot(history.history['val_accuracy'])\n",
        "plt.title('Model Accuracy')\n",
        "plt.xlabel('Epoch')\n",
        "plt.ylabel('Accuracy')\n",
        "plt.legend(['Train', 'Validation'], loc='upper left')\n",
        "\n",
        "# Plot training & validation loss values\n",
        "plt.subplot(1, 2, 2)\n",
        "plt.plot(history.history['loss'])\n",
        "plt.plot(history.history['val_loss'])\n",
        "plt.title('Model Loss')\n",
        "plt.xlabel('Epoch')\n",
        "plt.ylabel('Loss')\n",
        "plt.legend(['Train', 'Validation'], loc='upper left')\n",
        "\n",
        "plt.tight_layout()\n",
        "plt.show()\n",
        "\n"
      ],
      "metadata": {
        "id": "FZES0JtcLBdO"
      },
      "execution_count": null,
      "outputs": []
    },
    {
      "cell_type": "code",
      "source": [
        "# Evaluate the model\n",
        "evaluation = model.evaluate(validation_generator)\n",
        "print(\"Validation Loss:\", evaluation[0])\n",
        "print(\"Validation Accuracy:\", evaluation[1])"
      ],
      "metadata": {
        "id": "3VA1Lv0WLk6w"
      },
      "execution_count": null,
      "outputs": []
    },
    {
      "cell_type": "markdown",
      "source": [
        "**U-net**"
      ],
      "metadata": {
        "id": "LrzLJfM6MVB2"
      }
    },
    {
      "cell_type": "code",
      "source": [
        "def unet(input_shape=(256, 256, 3)):\n",
        "    inputs = Input(input_shape)\n",
        "\n",
        "    conv1 = Conv2D(64, 3, activation='relu', padding='same')(inputs)\n",
        "    conv1 = Conv2D(64, 3, activation='relu', padding='same')(conv1)\n",
        "    pool1 = MaxPooling2D(pool_size=(2, 2))(conv1)\n",
        "\n",
        "    conv2 = Conv2D(128, 3, activation='relu', padding='same')(pool1)\n",
        "    conv2 = Conv2D(128, 3, activation='relu', padding='same')(conv2)\n",
        "    pool2 = MaxPooling2D(pool_size=(2, 2))(conv2)\n",
        "\n",
        "    conv3 = Conv2D(256, 3, activation='relu', padding='same')(pool2)\n",
        "    conv3 = Conv2D(256, 3, activation='relu', padding='same')(conv3)\n",
        "    pool3 = MaxPooling2D(pool_size=(2, 2))(conv3)\n",
        "\n",
        "    conv4 = Conv2D(512, 3, activation='relu', padding='same')(pool3)\n",
        "    conv4 = Conv2D(512, 3, activation='relu', padding='same')(conv4)\n",
        "    drop4 = Dropout(0.5)(conv4)\n",
        "    pool4 = MaxPooling2D(pool_size=(2, 2))(drop4)\n",
        "\n",
        "    conv5 = Conv2D(1024, 3, activation='relu', padding='same')(pool4)\n",
        "    conv5 = Conv2D(1024, 3, activation='relu', padding='same')(conv5)\n",
        "    drop5 = Dropout(0.5)(conv5)\n",
        "\n",
        "    up6 = Conv2DTranspose(512, 2, strides=(2, 2), padding='same')(drop5)\n",
        "    merge6 = concatenate([drop4, up6], axis=3)\n",
        "    conv6 = Conv2D(512, 3, activation='relu', padding='same')(merge6)\n",
        "    conv6 = Conv2D(512, 3, activation='relu', padding='same')(conv6)\n",
        "\n",
        "    up7 = Conv2DTranspose(256, 2, strides=(2, 2), padding='same')(conv6)\n",
        "    merge7 = concatenate([conv3, up7], axis=3)\n",
        "    conv7 = Conv2D(256, 3, activation='relu', padding='same')(merge7)\n",
        "    conv7 = Conv2D(256, 3, activation='relu', padding='same')(conv7)\n",
        "\n",
        "    up8 = Conv2DTranspose(128, 2, strides=(2, 2), padding='same')(conv7)\n",
        "    merge8 = concatenate([conv2, up8], axis=3)\n",
        "    conv8 = Conv2D(128, 3, activation='relu', padding='same')(merge8)\n",
        "    conv8 = Conv2D(128, 3, activation='relu', padding='same')(conv8)\n",
        "\n",
        "    up9 = Conv2DTranspose(64, 2, strides=(2, 2), padding='same')(conv8)\n",
        "    merge9 = concatenate([conv1, up9], axis=3)\n",
        "    conv9 = Conv2D(64, 3, activation='relu', padding='same')(merge9)\n",
        "    conv9 = Conv2D(64, 3, activation='relu', padding='same')(conv9)\n",
        "\n",
        "    # Batch normalization for better convergence\n",
        "    conv9 = BatchNormalization()(conv9)\n",
        "\n",
        "    # Global average pooling to collapse spatial dimensions\n",
        "    gap = GlobalAveragePooling2D()(conv9)\n",
        "\n",
        "    # Output layer with sigmoid activation for binary classification\n",
        "    outputs = Dense(1, activation='sigmoid')(gap)\n",
        "\n",
        "    model = Model(inputs=inputs, outputs=outputs)\n",
        "    return model\n",
        "\n",
        "# Instantiate the U-Net model\n",
        "model = unet(input_shape=(img_width, img_height, 3))\n",
        "\n",
        "# Compile the model with binary cross-entropy loss\n",
        "model.compile(optimizer='adam', loss='binary_crossentropy', metrics=['accuracy'])"
      ],
      "metadata": {
        "id": "mJRk3y1tvsFI"
      },
      "execution_count": null,
      "outputs": []
    },
    {
      "cell_type": "code",
      "source": [
        "import time\n",
        "import matplotlib.pyplot as plt\n",
        "\n",
        "# Record the start time\n",
        "start_time = time.time()\n",
        "\n",
        "# Train the model\n",
        "history = model.fit(\n",
        "    train_generator,\n",
        "    steps_per_epoch=train_generator.samples // batch_size,\n",
        "    epochs=10,\n",
        "    validation_data=validation_generator,\n",
        "    validation_steps=validation_generator.samples // batch_size\n",
        ")\n",
        "\n",
        "# Record the end time\n",
        "end_time = time.time()\n",
        "\n",
        "# Calculate the training time\n",
        "training_time = end_time - start_time\n",
        "print(f\"Training Time: {training_time} seconds\")\n",
        "\n",
        "# Plot training history\n",
        "plt.figure(figsize=(12, 6))\n",
        "\n",
        "# Plot training & validation accuracy values\n",
        "plt.subplot(1, 2, 1)\n",
        "plt.plot(history.history['accuracy'])\n",
        "plt.plot(history.history['val_accuracy'])\n",
        "plt.title('Model Accuracy')\n",
        "plt.xlabel('Epoch')\n",
        "plt.ylabel('Accuracy')\n",
        "plt.legend(['Train', 'Validation'], loc='upper left')\n",
        "\n",
        "# Plot training & validation loss values\n",
        "plt.subplot(1, 2, 2)\n",
        "plt.plot(history.history['loss'])\n",
        "plt.plot(history.history['val_loss'])\n",
        "plt.title('Model Loss')\n",
        "plt.xlabel('Epoch')\n",
        "plt.ylabel('Loss')\n",
        "plt.legend(['Train', 'Validation'], loc='upper left')\n",
        "\n",
        "plt.tight_layout()\n",
        "plt.show()\n"
      ],
      "metadata": {
        "colab": {
          "base_uri": "https://localhost:8080/"
        },
        "id": "qMsNuTZUyxaT",
        "outputId": "4c0fe1f7-6913-4f1c-8c7c-ccfc5915166a"
      },
      "execution_count": null,
      "outputs": [
        {
          "output_type": "stream",
          "name": "stdout",
          "text": [
            "Epoch 1/10\n"
          ]
        }
      ]
    },
    {
      "cell_type": "markdown",
      "source": [
        "**Alex-Net**"
      ],
      "metadata": {
        "id": "DPzIuR9u3LgY"
      }
    },
    {
      "cell_type": "code",
      "source": [
        "# Define a transform without normalization\n",
        "transform_without_norm = transforms.Compose([\n",
        "    transforms.Resize(256),\n",
        "    transforms.CenterCrop(224),\n",
        "    transforms.ToTensor(),\n",
        "])\n",
        "\n",
        "# Load a subset of your dataset without normalization to verify labeling\n",
        "train_dataset_without_norm = torchvision.datasets.ImageFolder(root=train_dir, transform=transform_without_norm)\n",
        "\n",
        "# Calculate mean and standard deviation for normalization\n",
        "loader = torch.utils.data.DataLoader(train_dataset_without_norm, batch_size=len(train_dataset_without_norm), num_workers=2)\n",
        "\n",
        "mean = 0.\n",
        "std = 0.\n",
        "nb_samples = 0.\n",
        "for inputs, _ in loader:\n",
        "    batch_samples = inputs.size(0)\n",
        "    inputs = inputs.view(batch_samples, inputs.size(1), -1)\n",
        "    mean += inputs.mean(2).sum(0)\n",
        "    std += inputs.std(2).sum(0)\n",
        "    nb_samples += batch_samples\n",
        "\n",
        "mean /= nb_samples\n",
        "std /= nb_samples\n",
        "\n",
        "print(\"Calculated Mean:\", mean)\n",
        "print(\"Calculated Std:\", std)"
      ],
      "metadata": {
        "colab": {
          "base_uri": "https://localhost:8080/"
        },
        "id": "oIsWLyoltfOP",
        "outputId": "61634f90-5aa4-4490-fa11-b969a8036f50"
      },
      "execution_count": null,
      "outputs": [
        {
          "output_type": "stream",
          "name": "stdout",
          "text": [
            "Calculated Mean: tensor([0.3610, 0.3610, 0.3610])\n",
            "Calculated Std: tensor([0.2073, 0.2073, 0.2073])\n"
          ]
        }
      ]
    },
    {
      "cell_type": "code",
      "source": [
        "import torch\n",
        "import torchvision\n",
        "from torchvision import transforms\n",
        "\n",
        "# Define transforms for the images\n",
        "transform = transforms.Compose([\n",
        "    transforms.Resize(256),\n",
        "    transforms.RandomResizedCrop(224),  # Random cropping and resizing\n",
        "    transforms.ColorJitter(brightness=0.5, contrast=0.5, saturation=0.5, hue=0.5),  # Random color jitter\n",
        "    transforms.RandomRotation(degrees=90),  # Random rotation up to 90 degrees\n",
        "    transforms.RandomHorizontalFlip(p=0.5),  # Random horizontal flip\n",
        "    transforms.RandomVerticalFlip(p=0.5),  # Random vertical flip\n",
        "    transforms.RandomGrayscale(p=0.1),  # Randomly convert images to grayscale\n",
        "    transforms.ToTensor(),\n",
        "    transforms.Normalize(mean=[0.485, 0.456, 0.406], std=[0.229, 0.224, 0.225])  # Normalize using ImageNet mean and std\n",
        "])\n",
        "\n",
        "# Load the dataset with normalization and augmentation\n",
        "train_dataset = torchvision.datasets.ImageFolder(root=train_dir, transform=transform)\n",
        "validation_dataset = torchvision.datasets.ImageFolder(root=validation_dir, transform=transform)\n",
        "test_dataset = torchvision.datasets.ImageFolder(root=test_dir, transform=transform)\n",
        "\n",
        "# Define batch size\n",
        "batch_size = 32\n",
        "\n",
        "# Create data loaders\n",
        "train_loader = torch.utils.data.DataLoader(train_dataset, batch_size=batch_size, shuffle=True)\n",
        "validation_loader = torch.utils.data.DataLoader(validation_dataset, batch_size=batch_size, shuffle=False)\n",
        "test_loader = torch.utils.data.DataLoader(test_dataset, batch_size=batch_size, shuffle=False)\n",
        "\n",
        "# Load the pre-trained AlexNet model\n",
        "alexnet = torchvision.models.alexnet(pretrained=True)\n"
      ],
      "metadata": {
        "id": "7SnFh3KUtoqv"
      },
      "execution_count": null,
      "outputs": []
    },
    {
      "cell_type": "code",
      "source": [
        "# Lists to store validation history\n",
        "val_loss_history = []\n",
        "val_acc_history = []\n",
        "\n",
        "# Train the model\n",
        "num_epochs = 10\n",
        "start_time = time.time()\n",
        "\n",
        "for epoch in range(num_epochs):\n",
        "    running_loss = 0.0\n",
        "    correct = 0\n",
        "    total = 0\n",
        "\n",
        "    # Print epoch number\n",
        "    print('Epoch %d:' % (epoch + 1))\n",
        "\n",
        "    for i, data in enumerate(train_loader, 0):\n",
        "        inputs, labels = data\n",
        "        optimizer.zero_grad()\n",
        "\n",
        "        # Forward pass\n",
        "        outputs = alexnet(inputs)\n",
        "        loss = criterion(outputs, labels)\n",
        "\n",
        "        # Backward pass and optimize\n",
        "        loss.backward()\n",
        "        optimizer.step()\n",
        "\n",
        "        # Calculate statistics\n",
        "        running_loss += loss.item()\n",
        "        _, predicted = outputs.max(1)\n",
        "        total += labels.size(0)\n",
        "        correct += predicted.eq(labels).sum().item()\n",
        "\n",
        "    # Print training statistics after each epoch\n",
        "    print('Training Loss: %.3f | Training Accuracy: %.2f%%' %\n",
        "          (running_loss / len(train_loader), 100 * correct / total))\n",
        "\n",
        "    # Store training loss and accuracy for plotting\n",
        "    train_loss_history.append(running_loss / len(train_loader))\n",
        "    train_acc_history.append(correct / total)\n",
        "\n",
        "    # Validation after each epoch\n",
        "    val_running_loss = 0.0\n",
        "    val_correct = 0\n",
        "    val_total = 0\n",
        "    with torch.no_grad():\n",
        "        for data in validation_loader:\n",
        "            images, labels = data\n",
        "            outputs = alexnet(images)\n",
        "            loss = criterion(outputs, labels)\n",
        "            val_running_loss += loss.item()\n",
        "            _, predicted = torch.max(outputs.data, 1)\n",
        "            val_total += labels.size(0)\n",
        "            val_correct += (predicted == labels).sum().item()\n",
        "\n",
        "    # Print validation statistics after each epoch\n",
        "    print('Validation Loss: %.3f | Validation Accuracy: %.2f%%' %\n",
        "          (val_running_loss / len(validation_loader), 100 * val_correct / val_total))\n",
        "\n",
        "    # Store validation loss and accuracy for plotting\n",
        "    val_loss_history.append(val_running_loss / len(validation_loader))\n",
        "    val_acc_history.append(val_correct / val_total)\n",
        "\n",
        "print('Finished Training')\n",
        "print('Time taken:', time.time() - start_time)\n"
      ],
      "metadata": {
        "colab": {
          "base_uri": "https://localhost:8080/"
        },
        "id": "-TP589iPt_3L",
        "outputId": "2f6088b7-976a-44b3-f598-0f01848ed88e"
      },
      "execution_count": null,
      "outputs": [
        {
          "output_type": "stream",
          "name": "stdout",
          "text": [
            "Epoch 1:\n",
            "Training Loss: 1.170 | Training Accuracy: 53.02%\n",
            "Validation Loss: 1.460 | Validation Accuracy: 45.83%\n",
            "Epoch 2:\n",
            "Training Loss: 1.174 | Training Accuracy: 47.96%\n",
            "Validation Loss: 1.283 | Validation Accuracy: 48.61%\n",
            "Epoch 3:\n",
            "Training Loss: 1.043 | Training Accuracy: 54.16%\n",
            "Validation Loss: 1.245 | Validation Accuracy: 54.17%\n",
            "Epoch 4:\n",
            "Training Loss: 1.069 | Training Accuracy: 54.81%\n",
            "Validation Loss: 1.539 | Validation Accuracy: 41.67%\n",
            "Epoch 5:\n",
            "Training Loss: 1.064 | Training Accuracy: 52.69%\n",
            "Validation Loss: 1.516 | Validation Accuracy: 54.17%\n",
            "Epoch 6:\n",
            "Training Loss: 1.124 | Training Accuracy: 49.27%\n",
            "Validation Loss: 1.415 | Validation Accuracy: 50.00%\n",
            "Epoch 7:\n",
            "Training Loss: 1.300 | Training Accuracy: 49.92%\n",
            "Validation Loss: 2.171 | Validation Accuracy: 41.67%\n",
            "Epoch 8:\n",
            "Training Loss: 1.333 | Training Accuracy: 47.63%\n",
            "Validation Loss: 1.531 | Validation Accuracy: 43.06%\n",
            "Epoch 9:\n",
            "Training Loss: 1.119 | Training Accuracy: 53.02%\n",
            "Validation Loss: 1.348 | Validation Accuracy: 43.06%\n",
            "Epoch 10:\n",
            "Training Loss: 1.161 | Training Accuracy: 53.67%\n",
            "Validation Loss: 1.582 | Validation Accuracy: 48.61%\n",
            "Finished Training\n",
            "Time taken: 206.3190474510193\n"
          ]
        }
      ]
    },
    {
      "cell_type": "code",
      "source": [
        "import matplotlib.pyplot as plt\n",
        "import time\n",
        "\n",
        "# Lists to store training history\n",
        "train_loss_history = []\n",
        "train_acc_history = []\n",
        "\n",
        "# Lists to store validation history\n",
        "val_loss_history = []\n",
        "val_acc_history = []\n",
        "\n",
        "# Train the model\n",
        "num_epochs = 10\n",
        "start_time = time.time()\n",
        "\n",
        "for epoch in range(num_epochs):\n",
        "    running_loss = 0.0\n",
        "    correct = 0\n",
        "    total = 0\n",
        "\n",
        "    # Print epoch number\n",
        "    print('Epoch %d:' % (epoch + 1))\n",
        "\n",
        "    for i, data in enumerate(train_loader, 0):\n",
        "        inputs, labels = data\n",
        "        optimizer.zero_grad()\n",
        "\n",
        "        # Forward pass\n",
        "        outputs = alexnet(inputs)\n",
        "        loss = criterion(outputs, labels)\n",
        "\n",
        "        # Backward pass and optimize\n",
        "        loss.backward()\n",
        "        optimizer.step()\n",
        "\n",
        "        # Calculate statistics\n",
        "        running_loss += loss.item()\n",
        "        _, predicted = outputs.max(1)\n",
        "        total += labels.size(0)\n",
        "        correct += predicted.eq(labels).sum().item()\n",
        "\n",
        "    # Print training statistics after each epoch\n",
        "    print('Training Loss: %.3f | Training Accuracy: %.2f%%' %\n",
        "          (running_loss / len(train_loader), 100 * correct / total))\n",
        "\n",
        "    # Store training loss and accuracy for plotting\n",
        "    train_loss_history.append(running_loss / len(train_loader))\n",
        "    train_acc_history.append(correct / total)\n",
        "\n",
        "    # Validation after each epoch\n",
        "    val_running_loss = 0.0\n",
        "    val_correct = 0\n",
        "    val_total = 0\n",
        "    with torch.no_grad():\n",
        "        for data in validation_loader:\n",
        "            images, labels = data\n",
        "            outputs = alexnet(images)\n",
        "            loss = criterion(outputs, labels)\n",
        "            val_running_loss += loss.item()\n",
        "            _, predicted = torch.max(outputs.data, 1)\n",
        "            val_total += labels.size(0)\n",
        "            val_correct += (predicted == labels).sum().item()\n",
        "\n",
        "    # Print validation statistics after each epoch\n",
        "    print('Validation Loss: %.3f | Validation Accuracy: %.2f%%' %\n",
        "          (val_running_loss / len(validation_loader), 100 * val_correct / val_total))\n",
        "\n",
        "    # Store validation loss and accuracy for plotting\n",
        "    val_loss_history.append(val_running_loss / len(validation_loader))\n",
        "    val_acc_history.append(val_correct / val_total)\n",
        "\n",
        "print('Finished Training')\n",
        "print('Time taken:', time.time() - start_time)\n",
        "\n"
      ],
      "metadata": {
        "colab": {
          "base_uri": "https://localhost:8080/"
        },
        "id": "VqBy5haczDF_",
        "outputId": "bac42cbb-f4f6-4635-baf7-fddcd64365a2"
      },
      "execution_count": null,
      "outputs": [
        {
          "output_type": "stream",
          "name": "stdout",
          "text": [
            "Epoch 1:\n",
            "Training Loss: 1.102 | Training Accuracy: 56.93%\n",
            "Validation Loss: 1.400 | Validation Accuracy: 52.78%\n",
            "Epoch 2:\n",
            "Training Loss: 1.187 | Training Accuracy: 53.83%\n",
            "Validation Loss: 1.338 | Validation Accuracy: 48.61%\n",
            "Epoch 3:\n",
            "Training Loss: 1.312 | Training Accuracy: 52.04%\n",
            "Validation Loss: 1.778 | Validation Accuracy: 50.00%\n",
            "Epoch 4:\n",
            "Training Loss: 1.319 | Training Accuracy: 50.57%\n",
            "Validation Loss: 1.393 | Validation Accuracy: 50.00%\n",
            "Epoch 5:\n",
            "Training Loss: 1.158 | Training Accuracy: 51.88%\n",
            "Validation Loss: 1.299 | Validation Accuracy: 43.06%\n",
            "Epoch 6:\n",
            "Training Loss: 1.448 | Training Accuracy: 52.69%\n",
            "Validation Loss: 1.448 | Validation Accuracy: 44.44%\n",
            "Epoch 7:\n",
            "Training Loss: 1.274 | Training Accuracy: 49.43%\n",
            "Validation Loss: 1.424 | Validation Accuracy: 50.00%\n",
            "Epoch 8:\n",
            "Training Loss: 1.192 | Training Accuracy: 52.69%\n",
            "Validation Loss: 1.821 | Validation Accuracy: 40.28%\n",
            "Epoch 9:\n",
            "Training Loss: 1.297 | Training Accuracy: 51.71%\n",
            "Validation Loss: 2.333 | Validation Accuracy: 38.89%\n",
            "Epoch 10:\n",
            "Training Loss: 1.438 | Training Accuracy: 50.73%\n",
            "Validation Loss: 1.414 | Validation Accuracy: 43.06%\n",
            "Finished Training\n",
            "Time taken: 204.50479745864868\n"
          ]
        }
      ]
    },
    {
      "cell_type": "code",
      "source": [
        "# Plotting the training and validation loss and accuracy\n",
        "plt.figure(figsize=(12, 6))\n",
        "\n",
        "# Plot training & validation loss values\n",
        "plt.subplot(1, 2, 1)\n",
        "plt.plot(train_loss_history, color='blue', label='Training Loss')\n",
        "plt.plot(val_loss_history, color='red', label='Validation Loss')\n",
        "plt.title('Model Loss')\n",
        "plt.xlabel('Epoch')\n",
        "plt.ylabel('Loss')\n",
        "plt.legend(loc='upper right')\n",
        "\n",
        "# Plot training & validation accuracy values\n",
        "plt.subplot(1, 2, 2)\n",
        "plt.plot(train_acc_history, color='blue', label='Training Accuracy')\n",
        "plt.plot(val_acc_history, color='red', label='Validation Accuracy')\n",
        "plt.title('Model Accuracy')\n",
        "plt.xlabel('Epoch')\n",
        "plt.ylabel('Accuracy')\n",
        "plt.legend(loc='lower right')\n",
        "\n",
        "plt.tight_layout()\n",
        "plt.show()\n"
      ],
      "metadata": {
        "colab": {
          "base_uri": "https://localhost:8080/",
          "height": 423
        },
        "id": "8HrXztwozxST",
        "outputId": "7bc6c1a7-0b57-42f4-d5b1-b401db30fe2d"
      },
      "execution_count": null,
      "outputs": [
        {
          "output_type": "display_data",
          "data": {
            "text/plain": [
              "<Figure size 1200x600 with 2 Axes>"
            ],
            "image/png": "[encoded data removed]"
          },
          "metadata": {}
        }
      ]
    },
    {
      "cell_type": "code",
      "source": [
        "# Evaluate the model on test set\n",
        "criterion = nn.CrossEntropyLoss()\n",
        "\n",
        "test_correct = 0\n",
        "test_total = 0\n",
        "test_running_loss = 0.0\n",
        "with torch.no_grad():\n",
        "    for data in test_loader:\n",
        "        images, labels = data\n",
        "        outputs = alexnet(images)\n",
        "        _, predicted = torch.max(outputs.data, 1)\n",
        "        test_total += labels.size(0)\n",
        "        test_correct += (predicted == labels).sum().item()\n",
        "        loss = criterion(outputs, labels)\n",
        "        test_running_loss += loss.item()\n",
        "\n",
        "print('Accuracy of the network on the test images: %d %%' % (100 * test_correct / test_total))\n",
        "print('Test Loss: %.3f' % (test_running_loss / len(test_loader)))\n"
      ],
      "metadata": {
        "colab": {
          "base_uri": "https://localhost:8080/"
        },
        "id": "oTWArzIf0UnL",
        "outputId": "9d45cbb2-7fa3-4b4c-b47a-288a327f7644"
      },
      "execution_count": null,
      "outputs": [
        {
          "output_type": "stream",
          "name": "stdout",
          "text": [
            "Accuracy of the network on the test images: 46 %\n",
            "Test Loss: 1.447\n"
          ]
        }
      ]
    },
    {
      "cell_type": "code",
      "source": [],
      "metadata": {
        "id": "_vkbjgeI27_S"
      },
      "execution_count": null,
      "outputs": []
    }
  ]
}